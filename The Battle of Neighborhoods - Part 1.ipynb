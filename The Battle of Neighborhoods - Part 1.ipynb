{
 "cells": [
  {
   "cell_type": "markdown",
   "metadata": {},
   "source": [
    "# The Battle of the Neighborhoods - Part 1"
   ]
  },
  {
   "cell_type": "markdown",
   "metadata": {},
   "source": [
    "## Introduction"
   ]
  },
  {
   "cell_type": "markdown",
   "metadata": {},
   "source": [
    "<p style=\"font-size:20px\"> In this project we will study if it would be convenient to open a business in Toronto. Concretely, we will explore the idea of opening a Fitness Center. The need to eliminate stress or to get a defined body is more and more common, so opening a gym in a specific area could be really beneficial."
   ]
  },
  {
   "cell_type": "markdown",
   "metadata": {},
   "source": [
    "## Business Problem and objective"
   ]
  },
  {
   "cell_type": "markdown",
   "metadata": {},
   "source": [
    " The main goal of this project is to find the best location to open a Fitness Center in Toronto. So, in relation to this, the problem that arises is: If I wanted to open a Fitness Center, where should I place it? <hr> \n",
    " The people most interested in this project could be investors looking for a business to bet on and entrepreneurs who want to start their business."
   ]
  }
 ],
 "metadata": {
  "kernelspec": {
   "display_name": "Python 3",
   "language": "python",
   "name": "python3"
  },
  "language_info": {
   "codemirror_mode": {
    "name": "ipython",
    "version": 3
   },
   "file_extension": ".py",
   "mimetype": "text/x-python",
   "name": "python",
   "nbconvert_exporter": "python",
   "pygments_lexer": "ipython3",
   "version": "3.7.3"
  }
 },
 "nbformat": 4,
 "nbformat_minor": 2
}
